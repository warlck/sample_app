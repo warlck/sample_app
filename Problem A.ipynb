{
 "cells": [
  {
   "cell_type": "markdown",
   "metadata": {},
   "source": [
    "## Fraud Problem A\n",
    "\n",
    "Indeed, fraud in real life is often ambiguous. My goal here is **not** to identify fraud with absolute certainty, but rather flag suspicious activity for further follow up. I will explore the data with Python (mostly Pandas). Due to time constrains, my code might the most efficient possible, but it definitely does the job for any reasonably large dataset.\n",
    "\n",
    "#### Summary of Anomalies\n",
    "- 2 pairs of identical timestamps\n",
    "    - One set is made by different persons and the other is made by same person\n",
    "- All 6 of them have about 20% of their bookings that is less than 5 seconds apart from the last booking\n",
    "- Ricky and Mamat has half their bookings less than 3 minutes apart from their last booking\n",
    "- Around 40% of orders accross all 6 agents are made between 12am and 6am"
   ]
  },
  {
   "cell_type": "code",
   "execution_count": 185,
   "metadata": {},
   "outputs": [],
   "source": [
    "import numpy as np\n",
    "import pandas as pd\n",
    "import matplotlib.pyplot as plt\n"
   ]
  },
  {
   "cell_type": "markdown",
   "metadata": {},
   "source": [
    "Let us first explore the first few entries of the data. "
   ]
  },
  {
   "cell_type": "code",
   "execution_count": 186,
   "metadata": {},
   "outputs": [
    {
     "name": "stdout",
     "output_type": "stream",
     "text": [
      "  Agent Name               Timestamp  Driver ID\n",
      "0      Ricky 2017-05-08 04:30:03.050    1000094\n",
      "1      Mamat 2017-05-14 16:16:35.368    1001006\n",
      "2       Tono 2017-05-11 06:36:37.733    1000482\n",
      "3       Bayu 2017-05-08 04:12:38.463    1000026\n",
      "4       Lila 2017-05-09 04:48:13.452    1000181\n"
     ]
    }
   ],
   "source": [
    "#Parsing the datetime column in datetime formate will facilitate manipulation\n",
    "prob_a = pd.read_csv('PROBLEM A.CSV', parse_dates = ['Timestamp']).dropna(axis = 1, how = 'all')\n",
    "print(prob_a.head())"
   ]
  },
  {
   "cell_type": "markdown",
   "metadata": {},
   "source": [
    "We are given 3 columns: Agent name, timestamp and driver ID. The most obvious anomaly would be duplicate driver ID. Let us first check for that. "
   ]
  },
  {
   "cell_type": "code",
   "execution_count": 187,
   "metadata": {
    "scrolled": true
   },
   "outputs": [
    {
     "data": {
      "text/plain": [
       "1001036    1\n",
       "1000323    1\n",
       "1000353    1\n",
       "1000352    1\n",
       "1000351    1\n",
       "Name: Driver ID, dtype: int64"
      ]
     },
     "execution_count": 187,
     "metadata": {},
     "output_type": "execute_result"
    }
   ],
   "source": [
    "prob_a['Driver ID'].value_counts().head()"
   ]
  },
  {
   "cell_type": "markdown",
   "metadata": {},
   "source": [
    "Note that value count function automatically sorts in descending order. Since the value count for the top ID is 1, we know that all driver ID is unique. "
   ]
  },
  {
   "cell_type": "markdown",
   "metadata": {},
   "source": [
    "## Consecutive Sign-ups\n",
    "\n",
    "Next thing to check for is duplicate time stamps. It may be that the go-jek system created 2 entries in error. Let's check for that. "
   ]
  },
  {
   "cell_type": "code",
   "execution_count": 188,
   "metadata": {},
   "outputs": [
    {
     "name": "stdout",
     "output_type": "stream",
     "text": [
      "2017-05-09 04:48:14.219    2\n",
      "2017-05-11 16:18:09.061    2\n",
      "2017-05-08 05:40:00.858    1\n",
      "2017-05-13 09:11:01.428    1\n",
      "2017-05-10 07:15:02.768    1\n",
      "Name: Timestamp, dtype: int64\n"
     ]
    }
   ],
   "source": [
    "time_counts = prob_a['Timestamp'].value_counts()\n",
    "print(time_counts.head())"
   ]
  },
  {
   "cell_type": "markdown",
   "metadata": {},
   "source": [
    "Since like we found entries that has exactly the same timestamps. It seems very strange that few entries are made at exactly the same moment in time. Let's dig deeper before we jump to conclusions!"
   ]
  },
  {
   "cell_type": "code",
   "execution_count": 189,
   "metadata": {},
   "outputs": [
    {
     "name": "stdout",
     "output_type": "stream",
     "text": [
      "    Agent Name               Timestamp  Driver ID\n",
      "408       Bayu 2017-05-09 04:48:14.219    1000191\n",
      "767       Tono 2017-05-09 04:48:14.219    1000192\n",
      "    Agent Name               Timestamp  Driver ID\n",
      "117      Ricky 2017-05-11 16:18:09.061    1000568\n",
      "555      Ricky 2017-05-11 16:18:09.061    1000567\n"
     ]
    }
   ],
   "source": [
    "time_suspect_1 = time_counts.index[0]\n",
    "time_suspect_2 = time_counts.index[1]\n",
    "\n",
    "print(prob_a[prob_a['Timestamp'] == time_suspect_1])\n",
    "print(prob_a[prob_a['Timestamp'] == time_suspect_2])"
   ]
  },
  {
   "cell_type": "markdown",
   "metadata": {},
   "source": [
    "The first set is made by Bayu and Tono. Possible reasons:\n",
    "- Coincidence, but unlikely \n",
    "- Somehow both of them found a way to register the same driver simultaneously\n",
    "- System error\n",
    "\n",
    "The second set is made by the same agent - Ricky. It is impossible for Ricky to sign up 2 unique drivers at one point in time. Possible reasons:\n",
    "- Ricky engaged someone else to signup drivers and they both coincidentally registered somemone at the exact same time\n",
    "- Ricky used a computer algorithm to signup driver\n",
    "- System duplicate error\n",
    "\n",
    "Regardless, it is worth digging deeper with more data (that we do not have). Driver sign-up information would show a great deal. "
   ]
  },
  {
   "cell_type": "markdown",
   "metadata": {},
   "source": [
    "Following the same line of logic, there can also be entries with extremely short time periods apart. I will define a convenience function to find these entries.  "
   ]
  },
  {
   "cell_type": "code",
   "execution_count": 190,
   "metadata": {},
   "outputs": [],
   "source": [
    "name_set = set(prob_a['Agent Name'])\n",
    "agent_counts = prob_a['Agent Name'].value_counts()\n",
    "\n",
    "def suspicious_bookings(secs_apart, data): \n",
    "    #returns a dataframe with entries that are spaced less than (secs_apart)\n",
    "    #Also returns a dictionary with the counts of such entries for each agent and their respective percentage of total bookings\n",
    "    #input data in pandas df format\n",
    "    \n",
    "    cheat_counts= {}\n",
    "    cheat_df = pd.DataFrame(columns = ['row_index1','row_index2', 'driver_id', 'agent_name', 'secs_bet_booking'])\n",
    "    \n",
    "    for name in name_set:\n",
    "        subset = data[data['Agent Name'] == name]\n",
    "        subset = subset.sort_values('Timestamp').reset_index()\n",
    "        cheat_counts[name] = 0\n",
    "        \n",
    "        for index, row in subset.iterrows():\n",
    "            if index != 0:\n",
    "                row1= subset.iloc[index - 1]\n",
    "                bet_booking_secs = ((row['Timestamp'] - row1['Timestamp']).total_seconds())\n",
    "                if bet_booking_secs < secs_apart:\n",
    "                    cheat_counts[name]+=1\n",
    "                    cheat_df_1 = pd.DataFrame({'row_index1':row1['index'], \n",
    "                                               'row_index2':row['index'], \n",
    "                                               'driver_id':row['Driver ID'],\n",
    "                                               'agent_name':row['Agent Name'], \n",
    "                                               'secs_bet_booking':[bet_booking_secs]})\n",
    "                    cheat_df = pd.concat([cheat_df, cheat_df_1])\n",
    "                    \n",
    "    for name in name_set:\n",
    "        cheat_counts[name] = (cheat_counts[name], '{:.2f}%'.format(cheat_counts[name]/agent_counts[name] * 100))\n",
    "\n",
    "    return cheat_counts, cheat_df.reset_index().drop('index', axis = 1)"
   ]
  },
  {
   "cell_type": "raw",
   "metadata": {},
   "source": []
  },
  {
   "cell_type": "code",
   "execution_count": 191,
   "metadata": {
    "scrolled": true
   },
   "outputs": [
    {
     "name": "stdout",
     "output_type": "stream",
     "text": [
      "  row_index1 row_index2 driver_id agent_name  secs_bet_booking\n",
      "0        638        374   1000029      Ricky             0.582\n",
      "1        374        925   1000034      Ricky             0.361\n",
      "2        925        559   1000036      Ricky             0.350\n",
      "3        559        506   1000046      Ricky             1.402\n",
      "4        654        175   1000064      Ricky             1.283\n",
      "{'Ricky': (110, '30.14%'), 'Sarah': (27, '22.69%'), 'Lila': (21, '17.65%'), 'Mamat': (52, '27.23%'), 'Tono': (25, '21.19%'), 'Bayu': (27, '21.60%')}\n"
     ]
    }
   ],
   "source": [
    "cheat_counts, cheat_df = suspicious_bookings(10, prob_a)\n",
    "print(cheat_df.head())\n",
    "print(cheat_counts)"
   ]
  },
  {
   "cell_type": "markdown",
   "metadata": {},
   "source": [
    "Arguably, it is impossible for agents to simultaneously signup 2 people in a span of 10 seconds, given they have to explain the product to the driver. Possibilities:\n",
    "- They are signing drivers in groups (couples etc)\n",
    "- They are using a computer program to create fictitious signups\n",
    "\n",
    "Let us now extend the window to 3 minutes (180seconds). Logically, it is highly unlikely to register 2 unique drivers in under 3 minutes. One might argue that the agent might be signing up drivers in groups. However, it is extremely suspicious to sign up too many such groups in any given week. \n",
    "\n",
    "Thus, our function also log the number of such entries with close proximities for each agent. A percentage of suspicious booking pairs out of total for each agent is also calculated. "
   ]
  },
  {
   "cell_type": "code",
   "execution_count": 192,
   "metadata": {},
   "outputs": [
    {
     "name": "stdout",
     "output_type": "stream",
     "text": [
      "{'Ricky': (175, '47.95%'), 'Sarah': (29, '24.37%'), 'Lila': (24, '20.17%'), 'Mamat': (102, '53.40%'), 'Tono': (28, '23.73%'), 'Bayu': (29, '23.20%')}\n"
     ]
    }
   ],
   "source": [
    "cheat_counts, cheat_df = suspicious_bookings(180, prob_a)\n",
    "print(cheat_counts)"
   ]
  },
  {
   "cell_type": "markdown",
   "metadata": {},
   "source": [
    "Ricky's and Mamat's entries seems the most suspicious since about 50% of their bookings are made less than 3 minutes after their last bookings. Let us plot graphs to further shed light on the matter."
   ]
  },
  {
   "cell_type": "code",
   "execution_count": 193,
   "metadata": {
    "scrolled": true
   },
   "outputs": [
    {
     "data": {
      "image/png": "[encoded data removed]",
      "text/plain": [
       "<Figure size 432x288 with 1 Axes>"
      ]
     },
     "metadata": {},
     "output_type": "display_data"
    },
    {
     "data": {
      "image/png": "[encoded data removed]",
      "text/plain": [
       "<Figure size 432x288 with 1 Axes>"
      ]
     },
     "metadata": {},
     "output_type": "display_data"
    },
    {
     "data": {
      "image/png": "[encoded data removed]",
      "text/plain": [
       "<Figure size 432x288 with 1 Axes>"
      ]
     },
     "metadata": {},
     "output_type": "display_data"
    },
    {
     "data": {
      "image/png": "[encoded data removed]",
      "text/plain": [
       "<Figure size 432x288 with 1 Axes>"
      ]
     },
     "metadata": {},
     "output_type": "display_data"
    },
    {
     "data": {
      "image/png": "[encoded data removed]",
      "text/plain": [
       "<Figure size 432x288 with 1 Axes>"
      ]
     },
     "metadata": {},
     "output_type": "display_data"
    },
    {
     "data": {
      "image/png": "[encoded data removed]",
      "text/plain": [
       "<Figure size 432x288 with 1 Axes>"
      ]
     },
     "metadata": {},
     "output_type": "display_data"
    }
   ],
   "source": [
    "##Returns all entries\n",
    "for name in name_set:\n",
    "    all_counts, all_df = suspicious_bookings(np.exp(1e6), prob_a)\n",
    "    entries = all_df[all_df['agent_name'] == name]\n",
    "    time_bet = entries['secs_bet_booking'] \n",
    "    time_bet.plot.hist(bins = 50, range = (0, 1440)) #1440seconds =  24 hours\n",
    "    plt.title(name +' :Seconds between consecutive booking pairs')\n",
    "    plt.axis((0,1440 ,0,120))\n",
    "    plt.show()"
   ]
  },
  {
   "cell_type": "markdown",
   "metadata": {},
   "source": [
    "Indeed, Ricky's and Mamat's entries seems extremely suspicious. Possibilities:\n",
    "- It is a coincidence and they meet more groups than individual (unlikely!)\n",
    "- They are cheating and they signup multiple times in short durations themselves or with the help of others."
   ]
  },
  {
   "cell_type": "markdown",
   "metadata": {},
   "source": [
    "## Sophisticated Cheaters\n",
    "\n",
    "What if they are way more sophisticated than we think they are? Did they enlisted the help of programmers to write a program to periodically signup? We have to dig deeper to check if there are identically spaced signups. To do this, we use value_counts on the time intervals between bookings. If there is a fixed interval account sign-up pattern, we should have a very skewed value_count distribution. "
   ]
  },
  {
   "cell_type": "code",
   "execution_count": 194,
   "metadata": {},
   "outputs": [
    {
     "name": "stdout",
     "output_type": "stream",
     "text": [
      "0.022    6\n",
      "0.026    5\n",
      "0.025    5\n",
      "0.027    5\n",
      "0.029    4\n",
      "Name: secs_bet_booking, dtype: int64\n"
     ]
    }
   ],
   "source": [
    "print(all_df['secs_bet_booking'].value_counts().head())"
   ]
  },
  {
   "cell_type": "markdown",
   "metadata": {},
   "source": [
    "Based on the signup information, there is no fixed interval for most bookings. However, this may mean that they are factoring in randomness. \n",
    "\n",
    "Another way to check for automated cheating would be to check the percentage of signups that fall during human hours (i.e. 6am to 12am midnight ). Over here, we are assuming that drivers and agents fall in the same timezone."
   ]
  },
  {
   "cell_type": "code",
   "execution_count": 197,
   "metadata": {},
   "outputs": [
    {
     "name": "stdout",
     "output_type": "stream",
     "text": [
      "{'Ricky': (103, '28.22%'), 'Sarah': (54, '45.38%'), 'Lila': (50, '42.02%'), 'Mamat': (42, '21.99%'), 'Tono': (53, '44.92%'), 'Bayu': (58, '46.40%')}\n"
     ]
    },
    {
     "data": {
      "image/png": "[encoded data removed]",
      "text/plain": [
       "<Figure size 432x288 with 1 Axes>"
      ]
     },
     "metadata": {},
     "output_type": "display_data"
    }
   ],
   "source": [
    "name_set = set(prob_a['Agent Name'])\n",
    "agent_count = prob_a['Agent Name'].value_counts()\n",
    "\n",
    "prob_a['odd_hours'] = prob_a['Timestamp'].apply(lambda stamp: True if stamp.hour<6 else False)\n",
    "group_count = prob_a['Agent Name'][prob_a['odd_hours']].value_counts()\n",
    "perc_dict = {}\n",
    "\n",
    "for name in name_set:\n",
    "    perc_dict[name] = group_count[name]/agent_count[name] * 100\n",
    "    odd_hour_dict[name] = (group_count[name], '{:.2f}%'.format(perc_dict[name]))\n",
    "\n",
    "print(odd_hour_dict)\n",
    "\n",
    "plt.bar(x = list(perc_dict.keys()), height = list(perc_dict.values()))\n",
    "plt.title('Percentage of entries with odd hours')\n",
    "plt.show()"
   ]
  },
  {
   "cell_type": "code",
   "execution_count": null,
   "metadata": {},
   "outputs": [],
   "source": []
  },
  {
   "cell_type": "code",
   "execution_count": null,
   "metadata": {},
   "outputs": [],
   "source": []
  }
 ],
 "metadata": {
  "kernelspec": {
   "display_name": "Python 3",
   "language": "python",
   "name": "python3"
  },
  "language_info": {
   "codemirror_mode": {
    "name": "ipython",
    "version": 3
   },
   "file_extension": ".py",
   "mimetype": "text/x-python",
   "name": "python",
   "nbconvert_exporter": "python",
   "pygments_lexer": "ipython3",
   "version": "3.6.5"
  }
 },
 "nbformat": 4,
 "nbformat_minor": 2
}
